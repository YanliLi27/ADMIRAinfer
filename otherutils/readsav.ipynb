{
 "cells": [
  {
   "cell_type": "code",
   "execution_count": 2,
   "id": "a050752e",
   "metadata": {},
   "outputs": [],
   "source": [
    "import pandas as pd"
   ]
  },
  {
   "cell_type": "code",
   "execution_count": 11,
   "id": "10daee81",
   "metadata": {},
   "outputs": [
    {
     "name": "stdout",
     "output_type": "stream",
     "text": [
      "   CSANUMM SCOORDER.1 SCOORDER.2 MRI_datum.1 Score_datum.1 Score_datum.2  \\\n",
      "0      1.0                        2012-04-11           NaN           NaN   \n",
      "\n",
      "   EVALNUM.1  EVALNUM.2  MTDERO5.1  MTDERO5.2  ...  WRTSY1.1  WRTSY1.2  \\\n",
      "0        NaN        NaN        0.0        0.0  ...       0.0       0.0   \n",
      "\n",
      "   WRTSY2.1  WRTSY2.2  WRTSY3.1  WRTSY3.2  WRTSY4.1  WRTSY4.2  RAMRIS.1  \\\n",
      "0       0.0       0.0       0.0       0.0       0.0       0.0       6.0   \n",
      "\n",
      "   RAMRIS.2  \n",
      "0      10.0  \n",
      "\n",
      "[1 rows x 222 columns]\n",
      "True\n",
      "222\n",
      "----------------------------------------------------------------------------------------\n",
      "   CSANUMM  Visitenr MRI_datum.1  MTDERO5.gem  MTDERO4.gem  MTDERO3.gem  \\\n",
      "0      1.0       1.0  2012-04-11          0.0          0.0          0.0   \n",
      "\n",
      "   MTDERO2.gem  MTDERO1.gem  MTPERO5.gem  MTPERO4.gem  ...  TSYN_TOT  \\\n",
      "0          0.0          0.0          0.0          0.0  ...       2.0   \n",
      "\n",
      "   INFLAM_TOT  INFLAM_TOT_geenCMC  Artritis  Artritis_1jaar  Artritis_6mndn  \\\n",
      "0         5.5                 5.5       0.0             0.0             0.0   \n",
      "\n",
      "   Protocol_violation  DatumCensoring                           TREATEARLIER  \\\n",
      "0                 0.0      2014-05-26  niet gescreend, ook niet geïncludeerd   \n",
      "\n",
      "   Reden  \n",
      "0         \n",
      "\n",
      "[1 rows x 158 columns]\n",
      "True\n",
      "158\n",
      "----------------------------------------------------------------------------------------\n",
      "   Infile_MRI  Age_incl   V1  EACNUMM  nieuweprotocol  contrast   datum_MRI  \\\n",
      "0         1.0      56.1  1.0   2848.0             0.0       1.0  2010-08-24   \n",
      "\n",
      "  SCOORDER.1 SCOORDER.2  SCORDATD.1  ...  TS_WRIV_afw  TS_WRIII_afw  \\\n",
      "0         WN        ECN         6.0  ...          0.0           0.0   \n",
      "\n",
      "   TS_WRII_afw  TS_WRI_afw  TS_WR1_afw  TS_WR2_afw  TS_WR3_afw  TS_WR4_afw  \\\n",
      "0          0.0         0.0         0.0         0.0         0.0         0.0   \n",
      "\n",
      "   Aantal_locaties_afw  MRI_pos  \n",
      "0                  0.0      0.0  \n",
      "\n",
      "[1 rows x 439 columns]\n",
      "False\n",
      "439\n",
      "----------------------------------------------------------------------------------------\n",
      "                  X  EACNUMM       Datum mritijdspunt  mritijdspunt_num  \\\n",
      "0  EAC_2848_XM_.pdf   2848.0  2010-08-24     Baseline               1.0   \n",
      "\n",
      "   holdout   RA Scoorder  EVALnr  ScoreDD  ...  MTDBME3_GT  MTDBME4_GT  \\\n",
      "0      0.0  1.0       XM     NaN     21.0  ...         NaN         NaN   \n",
      "\n",
      "   MTDBME5_GT MTPBME1_GT MTPBME2_GT MTPBME3_GT MTPBME4_GT MTPBME5_GT cam_use  \\\n",
      "0         NaN        NaN        NaN        NaN        NaN        NaN     0.0   \n",
      "\n",
      "   inTE  \n",
      "0   0.0  \n",
      "\n",
      "[1 rows x 307 columns]\n",
      "True\n",
      "307\n",
      "----------------------------------------------------------------------------------------\n",
      "   AtlasNR    DatumMRI Scoredatum.1 Scoredatum.2  MTDERO5.1  MTDERO5.2  \\\n",
      "0      2.0  2013-11-15   2014-08-19   2014-09-04        0.0        0.0   \n",
      "\n",
      "   MTDERO4.1  MTDERO4.2  MTDERO3.1  MTDERO3.2  ...  WRTSYI.1  WRTSYI.2  \\\n",
      "0        0.0        0.0        0.0        0.0  ...       0.0       0.0   \n",
      "\n",
      "   WRTSY1.1  WRTSY1.2  WRTSY2.1  WRTSY2.2  WRTSY3.1  WRTSY3.2  WRTSY4.1  \\\n",
      "0       0.0       0.0       0.0       0.0       0.0       0.0       0.0   \n",
      "\n",
      "   WRTSY4.2  \n",
      "0       0.0  \n",
      "\n",
      "[1 rows x 216 columns]\n",
      "False\n",
      "216\n",
      "----------------------------------------------------------------------------------------\n"
     ]
    }
   ],
   "source": [
    "path_lists = [r'R:\\ESMIRA\\ESMIRA_Scores\\SPSS data\\CSA BASELINE MRI FILE 27062022.sav',\n",
    "                r'R:\\ESMIRA\\ESMIRA_Scores\\SPSS data\\CSA BASELINE AND FOLLOW-UP MRI FILE May2022_repeatedMRI_long_arthritis_censoring_date.sav',\n",
    "                r'R:\\ESMIRA\\ESMIRA_Scores\\SPSS data\\EAC BASELINE MRI FILE April 2022.sav',  # CSANUMM\n",
    "                r'R:\\ESMIRA\\ESMIRA_Scores\\SPSS data\\EAC FOLLOW-UP MRI FILE August 2025.sav', \n",
    "                r'R:\\ESMIRA\\ESMIRA_Scores\\SPSS data\\3. Atlas.sav']\n",
    "for path in path_lists:\n",
    "    df = pd.read_spss(path)\n",
    "    print(df.head(1))\n",
    "    print('CSANUMM' in df.columns)\n",
    "    print(len(df.columns))\n",
    "    print('----------------------------------------------------------------------------------------')"
   ]
  },
  {
   "cell_type": "code",
   "execution_count": null,
   "id": "3f2cffde",
   "metadata": {},
   "outputs": [
    {
     "name": "stdout",
     "output_type": "stream",
     "text": [
      "True\n"
     ]
    }
   ],
   "source": []
  },
  {
   "cell_type": "code",
   "execution_count": null,
   "id": "dd9e1ad4",
   "metadata": {},
   "outputs": [
    {
     "name": "stdout",
     "output_type": "stream",
     "text": [
      "307\n"
     ]
    }
   ],
   "source": []
  },
  {
   "cell_type": "code",
   "execution_count": null,
   "id": "38a4a966",
   "metadata": {},
   "outputs": [],
   "source": []
  }
 ],
 "metadata": {
  "kernelspec": {
   "display_name": "base",
   "language": "python",
   "name": "python3"
  },
  "language_info": {
   "codemirror_mode": {
    "name": "ipython",
    "version": 3
   },
   "file_extension": ".py",
   "mimetype": "text/x-python",
   "name": "python",
   "nbconvert_exporter": "python",
   "pygments_lexer": "ipython3",
   "version": "3.11.5"
  }
 },
 "nbformat": 4,
 "nbformat_minor": 5
}
