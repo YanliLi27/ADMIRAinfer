{
 "cells": [
  {
   "cell_type": "code",
   "execution_count": null,
   "metadata": {},
   "outputs": [],
   "source": [
    "import pandas as pd\n",
    "from matplotlib import pyplot as plt"
   ]
  },
  {
   "cell_type": "code",
   "execution_count": null,
   "metadata": {},
   "outputs": [],
   "source": [
    "chosen_ramris:str = 'D:\\\\ESMIRA\\\\SPSS data\\\\5. CSA_T1_MRI_scores_SPSS.csv'\n",
    "df = pd.read_csv(chosen_ramris, sep=';')\n",
    "WRs = [column for column in df if column[:2]=='WR']\n",
    "WRs.append('CSANUMM')\n",
    "dfwr = df[WRs]  # df of wrist + csaid\n",
    "# 此时获得了所有的WR的列"
   ]
  },
  {
   "cell_type": "code",
   "execution_count": null,
   "metadata": {},
   "outputs": [],
   "source": [
    "# 需要计算所有Wrist的TSY, SYN, BME. 合并.1和.2\n",
    "TSY = [column for column in dfwr if (column[2:5]=='TSY' or column=='CSANUMM')]\n",
    "SYN = [column for column in dfwr if (column[2:5]=='SYN' or column=='CSANUMM')]\n",
    "BME = [column for column in dfwr if (column[2:5]=='BME' or column=='CSANUMM')]\n",
    "dfwr_tsy = df[TSY]\n",
    "dfwr_syn = df[SYN]\n",
    "dfwr_bme = df[BME]\n",
    "# 此时获得了各类的列"
   ]
  },
  {
   "cell_type": "code",
   "execution_count": null,
   "metadata": {},
   "outputs": [],
   "source": [
    "def meanreader(df:pd.DataFrame):\n",
    "    meancolumn = [column[:-2] for column in df if column[-2:]=='.1']\n",
    "    for col in meancolumn:\n",
    "        col1, col2 = col+'.1', col+'.2'\n",
    "        df.loc[:, col1] = pd.to_numeric(df[col1], errors='coerce')\n",
    "        df.loc[df[col1]>10, col1] = 0\n",
    "        df.loc[:, col2] = pd.to_numeric(df[col2], errors='coerce')\n",
    "        df.loc[df[col2]>10, col2] = 0\n",
    "        df.loc[:, col] = df[[col1, col2]].mean(axis=1, skipna=True)\n",
    "    leftcolumn = ['CSANUMM']\n",
    "    leftcolumn.extend(meancolumn)\n",
    "    return df[leftcolumn]\n",
    "meantsy = meanreader(dfwr_tsy.copy())\n",
    "meansyn = meanreader(dfwr_syn.copy())\n",
    "meanbme = meanreader(dfwr_bme.copy())\n",
    "# 计算两个rater的平均值"
   ]
  },
  {
   "cell_type": "code",
   "execution_count": null,
   "metadata": {},
   "outputs": [],
   "source": [
    "def sumscore(df:pd.DataFrame) ->pd.DataFrame:\n",
    "    scorecolumn = [column for column in df if column!='CSANUMM']\n",
    "    df['sums'] = df[scorecolumn].sum(axis=1, skipna=True)\n",
    "    return df[['CSANUMM', 'sums']]\n",
    "sumtsy:pd.DataFrame = sumscore(meantsy)  # CSANUMM, sumtsy\n",
    "sumsyn:pd.DataFrame = sumscore(meansyn)\n",
    "sumbme:pd.DataFrame = sumscore(meanbme)\n",
    "# 计算该类炎症的总和值"
   ]
  },
  {
   "cell_type": "code",
   "execution_count": null,
   "metadata": {},
   "outputs": [],
   "source": [
    "# 获得预测值-以计算预测误差\n",
    "def getdiff(feature):\n",
    "    chosen_ramris:str = f'D:\\\\ESMIRAcode\\\\RAMRISinfer\\\\output\\\\RAMRISestimation_sum_CSA\\\\Wrist_{feature}_CSA_sumTrue.csv'\n",
    "    df = pd.read_csv(chosen_ramris, sep=';')\n",
    "    df['diff'] = df['sums'] - df['sums_gt']\n",
    "    df['CSANUMM'] = df['ID'].str.slice(3).astype(int)\n",
    "    return df[['CSANUMM', 'diff']]\n",
    "# 获得CSANUMM和Diff\n",
    "difftsy:pd.DataFrame = getdiff('TSY')\n",
    "diffsyn:pd.DataFrame = getdiff('SYN')\n",
    "diffbme:pd.DataFrame = getdiff('BME')"
   ]
  },
  {
   "cell_type": "code",
   "execution_count": null,
   "metadata": {},
   "outputs": [],
   "source": [
    "#合并两个列表，使得其同时有sum和diff\n",
    "ultitsy = pd.merge(sumtsy, difftsy, how='left', on='CSANUMM')\n",
    "ultisyn = pd.merge(sumsyn, diffsyn, how='left', on='CSANUMM')\n",
    "ultibme = pd.merge(sumbme, diffbme, how='left', on='CSANUMM')\n",
    "# CSANUMM, sums, diff"
   ]
  },
  {
   "cell_type": "code",
   "execution_count": null,
   "metadata": {},
   "outputs": [],
   "source": [
    "# 看一眼分布情况才能确定后面的bin和bin2\n",
    "# 看bin\n",
    "tsycount = sumtsy['sums'].value_counts()\n",
    "syncount = sumsyn['sums'].value_counts()\n",
    "bmecount = sumbme['sums'].value_counts()\n",
    "\n",
    "fig, axs = plt.subplots(1, 3, figsize=(12, 5))\n",
    "bars1 = axs[0].bar(tsycount.index, tsycount.values)\n",
    "axs[0].set_title('TSY')\n",
    "axs[0].set_ylabel('Values')\n",
    "# 在第一个子图上显示每个柱的值\n",
    "for bar in bars1:\n",
    "    yval = bar.get_height()\n",
    "    axs[0].text(bar.get_x() + bar.get_width() / 2, yval, int(yval), ha='center', va='bottom')\n",
    "\n",
    "bars2 = axs[1].bar(syncount.index, syncount.values)\n",
    "axs[1].set_title('SYN')\n",
    "axs[1].set_ylabel('Values')\n",
    "# 在第二个子图上显示每个柱的值\n",
    "for bar in bars2:\n",
    "    yval = bar.get_height()\n",
    "    axs[1].text(bar.get_x() + bar.get_width() / 2, yval, int(yval), ha='center', va='bottom')\n",
    "\n",
    "bars3 = axs[2].bar(bmecount.index, bmecount.values)\n",
    "axs[2].set_title('BME')\n",
    "axs[2].set_ylabel('Values')\n",
    "# 在第三个子图上显示每个柱的值\n",
    "for bar in bars3:\n",
    "    yval = bar.get_height()\n",
    "    axs[2].text(bar.get_x() + bar.get_width() / 2, yval, int(yval), ha='center', va='bottom')\n",
    "\n",
    "\n",
    "plt.tight_layout()\n",
    "plt.show()"
   ]
  },
  {
   "cell_type": "code",
   "execution_count": null,
   "metadata": {},
   "outputs": [],
   "source": [
    "# 看bin2\n",
    "tsycount = sumtsy['diff'].value_counts()\n",
    "syncount = sumsyn['diff'].value_counts()\n",
    "bmecount = sumbme['diff'].value_counts()\n",
    "\n",
    "fig, axs = plt.subplots(1, 3, figsize=(12, 5))\n",
    "bars1 = axs[0].bar(tsycount.index, tsycount.values)\n",
    "axs[0].set_title('TSY')\n",
    "axs[0].set_ylabel('Values')\n",
    "# 在第一个子图上显示每个柱的值\n",
    "for bar in bars1:\n",
    "    yval = bar.get_height()\n",
    "    axs[0].text(bar.get_x() + bar.get_width() / 2, yval, int(yval), ha='center', va='bottom')\n",
    "\n",
    "bars2 = axs[1].bar(syncount.index, syncount.values)\n",
    "axs[1].set_title('SYN')\n",
    "axs[1].set_ylabel('Values')\n",
    "# 在第二个子图上显示每个柱的值\n",
    "for bar in bars2:\n",
    "    yval = bar.get_height()\n",
    "    axs[1].text(bar.get_x() + bar.get_width() / 2, yval, int(yval), ha='center', va='bottom')\n",
    "\n",
    "bars3 = axs[2].bar(bmecount.index, bmecount.values)\n",
    "axs[2].set_title('BME')\n",
    "axs[2].set_ylabel('Values')\n",
    "# 在第三个子图上显示每个柱的值\n",
    "for bar in bars3:\n",
    "    yval = bar.get_height()\n",
    "    axs[2].text(bar.get_x() + bar.get_width() / 2, yval, int(yval), ha='center', va='bottom')\n",
    "\n",
    "\n",
    "plt.tight_layout()\n",
    "plt.show()"
   ]
  },
  {
   "cell_type": "code",
   "execution_count": null,
   "metadata": {},
   "outputs": [],
   "source": [
    "# 根据sums和diff的值分别进行分组\n",
    "def getsample(df:pd.DataFrame, bin:list, bin2:list, numsample:int=2):\n",
    "    # 定义函数，根据分数将数据分组，每2分为一个组\n",
    "    df['group1'] = pd.cut(df['sums'], bins=bin, right=False)\n",
    "    df['group2'] = pd.cut(df['diff'], bins=bin2, right=False)\n",
    "    # 对每个分数区间分组，并在每个组中采样 2 个样本\n",
    "    sampled_df = df.groupby(['group1', 'group2'], group_keys=False).apply(lambda x: x.sample(numsample, random_state=42))\n",
    "    # 删除 group 分组后的多余层\n",
    "    sampled_df = sampled_df.reset_index(drop=True)\n",
    "    return sampled_df\n",
    "sampletsy = getsample(ultitsy, bin=[0, 1, 2, 4, 12], bin2=[], numsample=12)\n",
    "samplesyn = getsample(ultisyn, bin=[0, 1, 2, 6], bin2=[],umsample=15)\n",
    "samplebme = getsample(ultibme, bin=[0, 1, 2, 3, 15], bin2=[], numsample=12)"
   ]
  },
  {
   "cell_type": "code",
   "execution_count": null,
   "metadata": {},
   "outputs": [],
   "source": []
  },
  {
   "cell_type": "code",
   "execution_count": null,
   "metadata": {},
   "outputs": [],
   "source": [
    "# 以下为三个加一起来看的办法 -- 因为没法同时满足个体和群体都是均匀分布"
   ]
  },
  {
   "cell_type": "code",
   "execution_count": null,
   "metadata": {},
   "outputs": [],
   "source": [
    "# 合并三个一起\n",
    "def merge(df1:pd.DataFrame, df2:pd.DataFrame, df3:pd.DataFrame):\n",
    "    res = df1.merge(df2, on='CSANUMM', how='inner').merge(df3, on='CSANUMM', how='inner')  # tsy+syn+bme\n",
    "    return res\n",
    "res = merge(sumtsy, sumsyn, sumbme)\n",
    "print(res.head(10))\n",
    "print(f'merged: {res.shape}, tsy: {sumtsy.shape}, syn: {sumsyn.shape}, bme: {sumbme.shape}')\n",
    "\n",
    "# 看合并之后的bin\n",
    "def sumreader2(df:pd.DataFrame) ->pd.DataFrame:\n",
    "    scorecolumn = [column for column in df if 'sums' in column]\n",
    "    diffcolumn = [column for column in df if 'diff' in column]\n",
    "    df['allsum'] = df[scorecolumn].sum(axis=1, skipna=True)\n",
    "    df['alldiff'] = df[diffcolumn].sum(axis=1, skipna=True)\n",
    "    return df[['CSANUMM', 'allsum', 'sums_x', 'sums_y', 'sums', 'alldiff', 'diff_x', 'diff_y', 'diff']]\n",
    "\n",
    "res = sumreader2(res)\n",
    "print(res.head(10))\n",
    "plt.hist(res.allsum.values, bins=30)\n",
    "plt.show()"
   ]
  },
  {
   "cell_type": "code",
   "execution_count": null,
   "metadata": {},
   "outputs": [],
   "source": [
    "def getsample2(df:pd.DataFrame, bin:list, bin2:list, numsample:int=2):\n",
    "    # 定义函数，根据分数将数据分组，每2分为一个组\n",
    "    df['group1'] = pd.cut(df['allsum'], bins=bin, right=False)\n",
    "    df['group2'] = pd.cut(df['allsum'], bins=bin2, right=False)\n",
    "    # print(df.head(20))\n",
    "    # 对每个分数区间分组，并在每个组中采样 2 个样本\n",
    "    sampled_df = df.groupby(['group1', 'group2'], group_keys=False).apply(lambda x: x.sample(numsample, random_state=42))\n",
    "    # 删除 group 分组后的多余层\n",
    "    sampled_df = sampled_df.reset_index(drop=True)\n",
    "    return sampled_df\n",
    "\n",
    "item = getsample2(res, bin=[0, 1, 2, 3, 4, 6, 8, 12, 35], bin2=, numsample=15)\n",
    "print(item.shape)\n",
    "# print(item.sort_values(by='allsum', ascending=True).head(20))\n",
    "print(item.CSANUMM.to_list())"
   ]
  }
 ],
 "metadata": {
  "language_info": {
   "name": "python"
  }
 },
 "nbformat": 4,
 "nbformat_minor": 2
}
